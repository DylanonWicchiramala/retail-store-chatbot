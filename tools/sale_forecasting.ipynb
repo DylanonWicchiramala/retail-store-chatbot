{
 "cells": [
  {
   "cell_type": "code",
   "execution_count": 23,
   "metadata": {},
   "outputs": [],
   "source": [
    "# append project work dir path\n",
    "from os.path import dirname, realpath, sep, pardir\n",
    "import sys\n",
    "sys.path.append(dirname(realpath(\"tools/\")) + sep + pardir)"
   ]
  },
  {
   "cell_type": "code",
   "execution_count": 25,
   "metadata": {},
   "outputs": [],
   "source": [
    "import pandas as pd\n",
    "from sklearn.ensemble import GradientBoostingRegressor\n",
    "from sklearn.model_selection import train_test_split\n",
    "import os\n",
    "import joblib\n",
    "from typing import Literal"
   ]
  },
  {
   "cell_type": "code",
   "execution_count": 32,
   "metadata": {},
   "outputs": [],
   "source": [
    "df = pd.read_csv(\"../document/restaurant sale/restaurant_sale.csv\", index_col=\"id\")"
   ]
  },
  {
   "cell_type": "code",
   "execution_count": 33,
   "metadata": {},
   "outputs": [],
   "source": [
    "def fitModel(model, X_train, y_train):\n",
    "    \n",
    "    return model.fit(X_train, y_train)\n",
    "\n",
    "\n",
    "def trainModel(X_train, Y_train):\n",
    "    hgb = fitModel(GradientBoostingRegressor(n_estimators=100,\n",
    "                                            max_depth=5,\n",
    "                                            min_samples_leaf=5,\n",
    "                                            learning_rate=0.1),\n",
    "                   X_train,\n",
    "                   Y_train)\n",
    "    \n",
    "    return hgb"
   ]
  },
  {
   "cell_type": "code",
   "execution_count": 34,
   "metadata": {},
   "outputs": [],
   "source": [
    "# Convert categorical columns to dummy variables\n",
    "df = pd.get_dummies(df, columns=['category'], drop_first=True)\n",
    "\n",
    "# Split the data into features (X) and target (y)\n",
    "X = df.drop('num_orders', axis=1)\n",
    "y = df['num_orders']"
   ]
  },
  {
   "cell_type": "code",
   "execution_count": 36,
   "metadata": {},
   "outputs": [
    {
     "data": {
      "text/plain": [
       "['../model/restaurant_sale_predictive.pkl']"
      ]
     },
     "execution_count": 36,
     "metadata": {},
     "output_type": "execute_result"
    }
   ],
   "source": [
    "model = trainModel(X, y)\n",
    "\n",
    "joblib.dump(model, '../model/restaurant_sale_predictive.pkl')"
   ]
  },
  {
   "cell_type": "code",
   "execution_count": 37,
   "metadata": {},
   "outputs": [
    {
     "data": {
      "text/plain": [
       "('R square: ', 0.38429084460122764)"
      ]
     },
     "execution_count": 37,
     "metadata": {},
     "output_type": "execute_result"
    }
   ],
   "source": [
    "\"R square: \", model.score(X, y)"
   ]
  },
  {
   "cell_type": "code",
   "execution_count": 38,
   "metadata": {},
   "outputs": [
    {
     "data": {
      "text/html": [
       "<div>\n",
       "<style scoped>\n",
       "    .dataframe tbody tr th:only-of-type {\n",
       "        vertical-align: middle;\n",
       "    }\n",
       "\n",
       "    .dataframe tbody tr th {\n",
       "        vertical-align: top;\n",
       "    }\n",
       "\n",
       "    .dataframe thead th {\n",
       "        text-align: right;\n",
       "    }\n",
       "</style>\n",
       "<table border=\"1\" class=\"dataframe\">\n",
       "  <thead>\n",
       "    <tr style=\"text-align: right;\">\n",
       "      <th></th>\n",
       "      <th>week</th>\n",
       "      <th>base_price</th>\n",
       "      <th>num_orders</th>\n",
       "      <th>human_traffic</th>\n",
       "      <th>category_Biryani</th>\n",
       "      <th>category_Desert</th>\n",
       "      <th>category_Extras</th>\n",
       "      <th>category_Fish</th>\n",
       "      <th>category_Other Snacks</th>\n",
       "      <th>category_Pasta</th>\n",
       "      <th>category_Pizza</th>\n",
       "      <th>category_Rice Bowl</th>\n",
       "      <th>category_Salad</th>\n",
       "      <th>category_Sandwich</th>\n",
       "      <th>category_Seafood</th>\n",
       "      <th>category_Soup</th>\n",
       "      <th>category_Starters</th>\n",
       "    </tr>\n",
       "    <tr>\n",
       "      <th>id</th>\n",
       "      <th></th>\n",
       "      <th></th>\n",
       "      <th></th>\n",
       "      <th></th>\n",
       "      <th></th>\n",
       "      <th></th>\n",
       "      <th></th>\n",
       "      <th></th>\n",
       "      <th></th>\n",
       "      <th></th>\n",
       "      <th></th>\n",
       "      <th></th>\n",
       "      <th></th>\n",
       "      <th></th>\n",
       "      <th></th>\n",
       "      <th></th>\n",
       "      <th></th>\n",
       "    </tr>\n",
       "  </thead>\n",
       "  <tbody>\n",
       "    <tr>\n",
       "      <th>1379560</th>\n",
       "      <td>1</td>\n",
       "      <td>152.29</td>\n",
       "      <td>177</td>\n",
       "      <td>7490</td>\n",
       "      <td>False</td>\n",
       "      <td>False</td>\n",
       "      <td>False</td>\n",
       "      <td>False</td>\n",
       "      <td>False</td>\n",
       "      <td>False</td>\n",
       "      <td>False</td>\n",
       "      <td>False</td>\n",
       "      <td>False</td>\n",
       "      <td>False</td>\n",
       "      <td>False</td>\n",
       "      <td>False</td>\n",
       "      <td>False</td>\n",
       "    </tr>\n",
       "    <tr>\n",
       "      <th>1466964</th>\n",
       "      <td>1</td>\n",
       "      <td>135.83</td>\n",
       "      <td>270</td>\n",
       "      <td>40</td>\n",
       "      <td>False</td>\n",
       "      <td>False</td>\n",
       "      <td>False</td>\n",
       "      <td>False</td>\n",
       "      <td>False</td>\n",
       "      <td>False</td>\n",
       "      <td>False</td>\n",
       "      <td>False</td>\n",
       "      <td>False</td>\n",
       "      <td>False</td>\n",
       "      <td>False</td>\n",
       "      <td>False</td>\n",
       "      <td>False</td>\n",
       "    </tr>\n",
       "    <tr>\n",
       "      <th>1346989</th>\n",
       "      <td>1</td>\n",
       "      <td>135.86</td>\n",
       "      <td>189</td>\n",
       "      <td>3877</td>\n",
       "      <td>False</td>\n",
       "      <td>False</td>\n",
       "      <td>False</td>\n",
       "      <td>False</td>\n",
       "      <td>False</td>\n",
       "      <td>False</td>\n",
       "      <td>False</td>\n",
       "      <td>False</td>\n",
       "      <td>False</td>\n",
       "      <td>False</td>\n",
       "      <td>False</td>\n",
       "      <td>False</td>\n",
       "      <td>False</td>\n",
       "    </tr>\n",
       "    <tr>\n",
       "      <th>1338232</th>\n",
       "      <td>1</td>\n",
       "      <td>437.53</td>\n",
       "      <td>54</td>\n",
       "      <td>6496</td>\n",
       "      <td>False</td>\n",
       "      <td>False</td>\n",
       "      <td>False</td>\n",
       "      <td>False</td>\n",
       "      <td>False</td>\n",
       "      <td>False</td>\n",
       "      <td>False</td>\n",
       "      <td>False</td>\n",
       "      <td>False</td>\n",
       "      <td>False</td>\n",
       "      <td>False</td>\n",
       "      <td>False</td>\n",
       "      <td>False</td>\n",
       "    </tr>\n",
       "    <tr>\n",
       "      <th>1448490</th>\n",
       "      <td>1</td>\n",
       "      <td>242.50</td>\n",
       "      <td>40</td>\n",
       "      <td>5795</td>\n",
       "      <td>False</td>\n",
       "      <td>False</td>\n",
       "      <td>False</td>\n",
       "      <td>False</td>\n",
       "      <td>False</td>\n",
       "      <td>False</td>\n",
       "      <td>False</td>\n",
       "      <td>False</td>\n",
       "      <td>False</td>\n",
       "      <td>False</td>\n",
       "      <td>False</td>\n",
       "      <td>False</td>\n",
       "      <td>False</td>\n",
       "    </tr>\n",
       "  </tbody>\n",
       "</table>\n",
       "</div>"
      ],
      "text/plain": [
       "         week  base_price  num_orders  human_traffic  category_Biryani  \\\n",
       "id                                                                       \n",
       "1379560     1      152.29         177           7490             False   \n",
       "1466964     1      135.83         270             40             False   \n",
       "1346989     1      135.86         189           3877             False   \n",
       "1338232     1      437.53          54           6496             False   \n",
       "1448490     1      242.50          40           5795             False   \n",
       "\n",
       "         category_Desert  category_Extras  category_Fish  \\\n",
       "id                                                         \n",
       "1379560            False            False          False   \n",
       "1466964            False            False          False   \n",
       "1346989            False            False          False   \n",
       "1338232            False            False          False   \n",
       "1448490            False            False          False   \n",
       "\n",
       "         category_Other Snacks  category_Pasta  category_Pizza  \\\n",
       "id                                                               \n",
       "1379560                  False           False           False   \n",
       "1466964                  False           False           False   \n",
       "1346989                  False           False           False   \n",
       "1338232                  False           False           False   \n",
       "1448490                  False           False           False   \n",
       "\n",
       "         category_Rice Bowl  category_Salad  category_Sandwich  \\\n",
       "id                                                               \n",
       "1379560               False           False              False   \n",
       "1466964               False           False              False   \n",
       "1346989               False           False              False   \n",
       "1338232               False           False              False   \n",
       "1448490               False           False              False   \n",
       "\n",
       "         category_Seafood  category_Soup  category_Starters  \n",
       "id                                                           \n",
       "1379560             False          False              False  \n",
       "1466964             False          False              False  \n",
       "1346989             False          False              False  \n",
       "1338232             False          False              False  \n",
       "1448490             False          False              False  "
      ]
     },
     "execution_count": 38,
     "metadata": {},
     "output_type": "execute_result"
    }
   ],
   "source": [
    "df.head()"
   ]
  },
  {
   "cell_type": "code",
   "execution_count": 39,
   "metadata": {},
   "outputs": [
    {
     "data": {
      "text/plain": [
       "Index(['week', 'base_price', 'num_orders', 'human_traffic', 'category_Biryani',\n",
       "       'category_Desert', 'category_Extras', 'category_Fish',\n",
       "       'category_Other Snacks', 'category_Pasta', 'category_Pizza',\n",
       "       'category_Rice Bowl', 'category_Salad', 'category_Sandwich',\n",
       "       'category_Seafood', 'category_Soup', 'category_Starters'],\n",
       "      dtype='object')"
      ]
     },
     "execution_count": 39,
     "metadata": {},
     "output_type": "execute_result"
    }
   ],
   "source": [
    "df.columns"
   ]
  },
  {
   "cell_type": "code",
   "execution_count": 42,
   "metadata": {},
   "outputs": [
    {
     "data": {
      "text/plain": [
       "{'week 1': 191.5, 'week 52': 165.8}"
      ]
     },
     "execution_count": 42,
     "metadata": {},
     "output_type": "execute_result"
    }
   ],
   "source": [
    "import pandas as pd\n",
    "import os\n",
    "import joblib\n",
    "from typing import Literal\n",
    "\n",
    "def restaurant_sale_project(\n",
    "    base_price:float, \n",
    "    category: Literal[\n",
    "        'Beverages',\n",
    "        'Biryani',\n",
    "        'Dessert',\n",
    "        'Extras',\n",
    "        'Fish',\n",
    "        'Other Snacks',\n",
    "        'Pasta',\n",
    "        'Pizza',\n",
    "        'Rice Bowl',\n",
    "        'Salad',\n",
    "        'Sandwich',\n",
    "        'Seafood',\n",
    "        'Soup',\n",
    "        'Starters'\n",
    "        ],  \n",
    "    human_traffic:int=3000,\n",
    "    week:int|list=[1, 5, 52]):\n",
    "\n",
    "    def getModel():\n",
    "        \n",
    "        pkl_dir = os.path.abspath('model')\n",
    "        \n",
    "        model_path = os.path.join(pkl_dir, 'restaurant_sale_predictive.pkl')\n",
    "\n",
    "        model = joblib.load(model_path)\n",
    "\n",
    "        return model\n",
    "\n",
    "\n",
    "    def runModel(X_test):\n",
    "\n",
    "        model = getModel()\n",
    "        Y_pred = model.predict(X_test)\n",
    "        \n",
    "        return model, Y_pred\n",
    "    \n",
    "    week = [week] if isinstance(week, int) else week\n",
    "    \n",
    "    result = {}\n",
    "    \n",
    "    for week in week:\n",
    "        data = {\n",
    "            \"week\": week,\n",
    "            \"base_price\": base_price,\n",
    "             \"human_traffic\":human_traffic,\n",
    "        }\n",
    "        \n",
    "        ca_key = [ 'category_Biryani',\n",
    "        'category_Desert', 'category_Extras', 'category_Fish',\n",
    "        'category_Other Snacks', 'category_Pasta', 'category_Pizza',\n",
    "        'category_Rice Bowl', 'category_Salad', 'category_Sandwich',\n",
    "        'category_Seafood', 'category_Soup', 'category_Starters']\n",
    "        \n",
    "        for k in ca_key:\n",
    "            data[k] = category==k.split(\"_\")[-1]\n",
    "            \n",
    "        data = pd.DataFrame([data])\n",
    "        \n",
    "        _, y = runModel(data)\n",
    "        \n",
    "        result[week] = round(y[0], 1)\n",
    "        \n",
    "    return result\n"
   ]
  }
 ],
 "metadata": {
  "kernelspec": {
   "display_name": "Python 3",
   "language": "python",
   "name": "python3"
  },
  "language_info": {
   "codemirror_mode": {
    "name": "ipython",
    "version": 3
   },
   "file_extension": ".py",
   "mimetype": "text/x-python",
   "name": "python",
   "nbconvert_exporter": "python",
   "pygments_lexer": "ipython3",
   "version": "3.11.9"
  }
 },
 "nbformat": 4,
 "nbformat_minor": 2
}
