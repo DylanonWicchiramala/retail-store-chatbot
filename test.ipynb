{
 "cells": [
  {
   "cell_type": "code",
   "execution_count": 2,
   "metadata": {},
   "outputs": [
    {
     "data": {
      "text/plain": [
       "array([1823, 3150, 3449, 2020, 4400, 2992, 4145, 1042, 2237, 2945, 4322,\n",
       "       5051, 4105, 1263, 3716, 3993, 2602, 3254, 1798, 1867, 4213, 4030,\n",
       "       5071, 3766, 2137, 3471, 3581, 4335, 4247, 2579, 3592, 3224, 2875,\n",
       "       3477, 4927, 1780, 3144, 3997, 3015, 4311])"
      ]
     },
     "execution_count": 2,
     "metadata": {},
     "output_type": "execute_result"
    }
   ],
   "source": [
    "import numpy as np\n",
    "\n",
    "def generate_normal_distribution(mean: int, std: float, num_samples: int):\n",
    "    # Generate floating-point numbers from a normal distribution\n",
    "    samples = np.random.normal(loc=mean, scale=std, size=num_samples)\n",
    "    \n",
    "    # Convert to integers by rounding to the nearest integer\n",
    "    integer_samples = np.round(samples).astype(int)\n",
    "    \n",
    "    return integer_samples\n",
    "\n",
    "\n",
    "generate_normal_distribution(3000, 1500, 40)"
   ]
  }
 ],
 "metadata": {
  "kernelspec": {
   "display_name": "Python 3",
   "language": "python",
   "name": "python3"
  },
  "language_info": {
   "codemirror_mode": {
    "name": "ipython",
    "version": 3
   },
   "file_extension": ".py",
   "mimetype": "text/x-python",
   "name": "python",
   "nbconvert_exporter": "python",
   "pygments_lexer": "ipython3",
   "version": "3.11.9"
  }
 },
 "nbformat": 4,
 "nbformat_minor": 2
}
