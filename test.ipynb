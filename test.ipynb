{
 "cells": [
  {
   "cell_type": "code",
   "execution_count": 1,
   "metadata": {},
   "outputs": [
    {
     "data": {
      "text/plain": [
       "[{'members': ['test'],\n",
       "  'hobbies_interests': 'ปีนเขา',\n",
       "  'preferred_products_categories': 'การออกกำลังกาย',\n",
       "  'age': '16-25',\n",
       "  'active_time': [['tuesday', '14:22:43'], ['thursday', '14:06:53']],\n",
       "  'persona_id': '2',\n",
       "  '_id': ObjectId('66ece231e849fcd27145e0ef')},\n",
       " {'members': ['U99353ead9d8bb44f3d5c62b097642c8f'],\n",
       "  'hobbies_interests': 'ปีนเขา',\n",
       "  'preferred_products_categories': 'รองเท้า, อุปกรณ์ออกกำลังกาย, iPhone',\n",
       "  'persona_id': '0',\n",
       "  '_id': ObjectId('66ece231e849fcd27145e0f0')},\n",
       " {'members': ['U1fd6424c0fbe1ef59efe9eb49fb2552f'],\n",
       "  'hobbies_interests': 'Shopping, Food',\n",
       "  'preferred_brands': 'Unknown',\n",
       "  'preferred_products_categories': 'Groceries, Fresh Produce',\n",
       "  'price_sensitivity': 'Price-sensitive',\n",
       "  'special_occasions': 'None',\n",
       "  'age': None,\n",
       "  'gender': None,\n",
       "  'persona_id': '3',\n",
       "  '_id': ObjectId('66ece231e849fcd27145e0f1')},\n",
       " {'members': ['U9ba421923ad9e8b980900eb3eb6118d6'],\n",
       "  'active_time': [['tuesday', '8:56:22'], ['monday', '4:43:12']],\n",
       "  'hobbies_interests': 'เทคโนโลยี',\n",
       "  'preferred_products_categories': 'สินค้าเทคโนโลยี',\n",
       "  'persona_id': '1',\n",
       "  '_id': ObjectId('66ece231e849fcd27145e0f2')}]"
      ]
     },
     "execution_count": 1,
     "metadata": {},
     "output_type": "execute_result"
    }
   ],
   "source": [
    "from crm.create_persona import pipeline\n",
    "\n",
    "pipeline()"
   ]
  }
 ],
 "metadata": {
  "kernelspec": {
   "display_name": "Python 3",
   "language": "python",
   "name": "python3"
  },
  "language_info": {
   "codemirror_mode": {
    "name": "ipython",
    "version": 3
   },
   "file_extension": ".py",
   "mimetype": "text/x-python",
   "name": "python",
   "nbconvert_exporter": "python",
   "pygments_lexer": "ipython3",
   "version": "3.11.9"
  }
 },
 "nbformat": 4,
 "nbformat_minor": 2
}
