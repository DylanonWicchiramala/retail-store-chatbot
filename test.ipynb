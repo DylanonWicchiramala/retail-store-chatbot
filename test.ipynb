{
 "cells": [
  {
   "cell_type": "code",
   "execution_count": 6,
   "metadata": {},
   "outputs": [],
   "source": [
    "from crm import ads_database\n",
    "import line_bot\n",
    "from datetime import datetime\n",
    "import schedule\n",
    "import threading\n",
    "import time\n",
    "from typing import Literal\n",
    "\n",
    "\n",
    "def push_personal_ads(user_id:str=None, push_all:bool=False):\n",
    "    def send_ad(user_id:str):\n",
    "        if not ad_content[\"time_displayed\"]:\n",
    "\n",
    "            response = line_bot.PushMessage(user_id=user_id, TextMessage=ad_content['content'])\n",
    "            \n",
    "            if response.status_code==200:\n",
    "                ads_database.set(user_id=user_id, time_displayed=datetime.now())\n",
    "                \n",
    "            return response\n",
    "    \n",
    "    if user_id:\n",
    "        return send_ad(user_id)\n",
    "    \n",
    "    if push_all:\n",
    "        ads = ads_database.get_all_ads()\n",
    "\n",
    "        for ad_content in ads:\n",
    "            user_id = ad_content['user_id']\n",
    "            send_ad(user_id=user_id)"
   ]
  },
  {
   "cell_type": "code",
   "execution_count": 8,
   "metadata": {},
   "outputs": [],
   "source": [
    "\n",
    "\n",
    "def schedule_push_personal_ads(\n",
    "    user_id:str=None, \n",
    "    push_all:bool=False, \n",
    "    days:Literal[\"monday\", \"tuesday\", \"wednesday\", \"thursday\", \"friday\", \"saturday\", \"sunday\"]=\"friday\", \n",
    "    at:str=\"09:30\", \n",
    "    timezone:str=\"Asia/Bangkok\"):\n",
    "    \n",
    "    \"\"\"Schedule push_personal_ads to run every Date in week\"\"\"\n",
    "    schedule_every = {\n",
    "        \"monday\": schedule.every().monday,\n",
    "        \"tuesday\": schedule.every().tuesday,\n",
    "        \"wednesday\": schedule.every().wednesday,\n",
    "        \"thursday\": schedule.every().thursday,\n",
    "        \"friday\": schedule.every().friday,\n",
    "        \"saturday\": schedule.every().saturday,\n",
    "        \"sunday\": schedule.every().sunday,\n",
    "    }\n",
    "    \n",
    "    push_ads = lambda: push_personal_ads(user_id, push_all)\n",
    "    \n",
    "    schedule_every[days].at(at, timezone).do(push_ads)\n",
    "\n",
    "    while True:\n",
    "        schedule.run_pending()  # Check if scheduled task is due\n",
    "        time.sleep(60)  # Wait before checking again\n",
    "\n",
    "\n",
    "def run_in_threads():\n",
    "    # Create a thread for the scheduling function\n",
    "    schedule_push_ads = lambda: schedule_push_personal_ads(push_all=True, days=\"friday\", at=\"09:30\")\n",
    "    schedule_thread = threading.Thread(target=schedule_push_ads)\n",
    "    schedule_thread.daemon = True  # Daemon threads exit when the main program exits\n",
    "    schedule_thread.start()\n",
    "\n",
    "\n",
    "if __name__ == \"__main__\":\n",
    "    run_in_threads()"
   ]
  }
 ],
 "metadata": {
  "kernelspec": {
   "display_name": "Python 3",
   "language": "python",
   "name": "python3"
  },
  "language_info": {
   "codemirror_mode": {
    "name": "ipython",
    "version": 3
   },
   "file_extension": ".py",
   "mimetype": "text/x-python",
   "name": "python",
   "nbconvert_exporter": "python",
   "pygments_lexer": "ipython3",
   "version": "3.11.9"
  }
 },
 "nbformat": 4,
 "nbformat_minor": 2
}
