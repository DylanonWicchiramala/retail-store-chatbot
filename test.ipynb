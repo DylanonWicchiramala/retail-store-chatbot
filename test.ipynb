{
 "cells": [
  {
   "cell_type": "code",
   "execution_count": 5,
   "metadata": {},
   "outputs": [],
   "source": [
    "## For database search tool\n",
    "from typing import TypedDict, Optional, NotRequired, Literal\n",
    "from langchain_openai import OpenAIEmbeddings\n",
    "import pymongo.collection\n",
    "import numpy as np\n",
    "from numpy.linalg import norm\n",
    "from utils import load_project_db\n",
    "import os\n",
    "\n",
    "STORE_NAME = os.environ[\"STORE_NAME\"]\n",
    "\n",
    "#! Retriever\n",
    "embedding = OpenAIEmbeddings(model=\"text-embedding-3-small\")\n",
    "\n",
    "\n",
    "class CustomerInformationInput(TypedDict):\n",
    "    name: NotRequired[str]\n",
    "    age: NotRequired[int]\n",
    "    gender: NotRequired[str]\n",
    "    hobbies_interests: NotRequired[str]\n",
    "    preferred_products_categories: NotRequired[str]\n",
    "    preferred_brands: NotRequired[str]\n",
    "    price_sensitivity: NotRequired[str]\n",
    "    special_occasions: NotRequired[str]\n",
    "\n",
    "\n",
    "def similarity_search(collection:pymongo.collection.Collection, query:str, embedding:OpenAIEmbeddings, k:int=4, include_score:bool=False):\n",
    "    items = list(collection.find({\"name\": STORE_NAME}))\n",
    "    for item in items:\n",
    "        emb = item['embedding']\n",
    "\n",
    "        a = emb\n",
    "        b = embedding.embed_query(query)\n",
    "\n",
    "        cosine = np.dot(a,b)/(norm(a)*norm(b))\n",
    "        \n",
    "        item['score']=cosine\n",
    "\n",
    "    filtered_items = filter(lambda d: d['score']>=threshold, items)\n",
    "    \n",
    "    sorted_items = sorted(filtered_items, reverse=True, key=lambda d: d['score'])\n",
    "\n",
    "    sorted_items = sorted_items[:k]\n",
    "    \n",
    "    for item in sorted_items:\n",
    "        del item['embedding']\n",
    "        if not include_score: del item['score'] \n",
    "\n",
    "    return sorted_items\n",
    "\n",
    "\n",
    "def save_customer_information(input_dict:CustomerInformationInput):\n",
    "    \"\"\" this function to save customers persona data and interests into the databases.\n",
    "    \"\"\"\n",
    "    # get database\n",
    "    client, db = load_project_db()\n",
    "    costomer_collection = db[\"Customer\"]\n",
    "    \n",
    "    CURRENT_USER_ID = os.environ[\"CURRENT_USER_ID\"]\n",
    "    \n",
    "    # Update the document in MongoDB\n",
    "    costomer_collection.update_one(\n",
    "        {\"user_id\": CURRENT_USER_ID},\n",
    "        {\"$set\": \n",
    "            input_dict\n",
    "        },\n",
    "        upsert=True  # Create a new document if no matching document is found\n",
    "    )\n",
    "    \n",
    "    client.close()\n",
    "    \n",
    "    return get_customer_information()\n",
    "    \n",
    "\n",
    "def get_customer_information():\n",
    "    \"\"\" this function to get customers persona data and interests into the databases.\n",
    "    \"\"\"\n",
    "    # get database\n",
    "    client, db = load_project_db()\n",
    "    costomer_collection = db[\"Customer\"]\n",
    "    \n",
    "    CURRENT_USER_ID = os.environ[\"CURRENT_USER_ID\"]\n",
    "    \n",
    "    # Update the document in MongoDB\n",
    "    persona = costomer_collection.find_one(\n",
    "        {\"user_id\": CURRENT_USER_ID}\n",
    "    )\n",
    "    \n",
    "    client.close()\n",
    "    \n",
    "    if persona:\n",
    "        return dict(persona)\n",
    "    else:\n",
    "        return None\n"
   ]
  },
  {
   "cell_type": "code",
   "execution_count": null,
   "metadata": {},
   "outputs": [],
   "source": [
    "os.environ[\"CURRENT_USER_ID\"] = \"test\""
   ]
  },
  {
   "cell_type": "code",
   "execution_count": 12,
   "metadata": {},
   "outputs": [],
   "source": [
    "save_customer_information({\n",
    "    # \"name\" : \"Jeff\",\n",
    "    \"age\" : \"93\",\n",
    "    \"gender\" : \"Male\",\n",
    "    # \"hobbies_interests\" : \"\",\n",
    "    # \"preferred_products_categories\" : \"\",\n",
    "    # \"preferred_brands\" : \"\",\n",
    "    # \"price_sensitivity\" : \"\",\n",
    "    # \"special_occasions\" : \"\",\n",
    "})"
   ]
  },
  {
   "cell_type": "code",
   "execution_count": 14,
   "metadata": {},
   "outputs": [
    {
     "data": {
      "text/plain": [
       "{'_id': ObjectId('66e7cbc3d82ebda0ef0e499d'),\n",
       " 'user_id': 'test',\n",
       " 'name': 'Jeff',\n",
       " 'age': 93,\n",
       " 'gender': 'Male',\n",
       " 'hobbies_interests': 'shoes',\n",
       " 'preferred_brands': '',\n",
       " 'preferred_products_categories': 'footwear',\n",
       " 'price_sensitivity': ''}"
      ]
     },
     "execution_count": 14,
     "metadata": {},
     "output_type": "execute_result"
    }
   ],
   "source": [
    "get_customer_information()"
   ]
  },
  {
   "cell_type": "code",
   "execution_count": null,
   "metadata": {},
   "outputs": [],
   "source": []
  }
 ],
 "metadata": {
  "kernelspec": {
   "display_name": "Python 3",
   "language": "python",
   "name": "python3"
  },
  "language_info": {
   "codemirror_mode": {
    "name": "ipython",
    "version": 3
   },
   "file_extension": ".py",
   "mimetype": "text/x-python",
   "name": "python",
   "nbconvert_exporter": "python",
   "pygments_lexer": "ipython3",
   "version": "3.11.9"
  }
 },
 "nbformat": 4,
 "nbformat_minor": 2
}
